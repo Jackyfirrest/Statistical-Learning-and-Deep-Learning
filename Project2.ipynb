{
 "cells": [
  {
   "cell_type": "markdown",
   "metadata": {
    "id": "EDIj7uD1LwZR"
   },
   "source": [
    "# 實驗摘要\n",
    "本實驗重點在對台灣智慧財產局商標圖案進行多標籤作圖像辨識。通過針對深度學習模型進行調整和設計，計算圖片對應 79 種各類別標籤的概率，以 mean Average Precision 作為比較指標，最終在測試資料集上進行測試。\n",
    "而在模型訓練上這次主要使用了 PyTorch 框架進行訓練，並選擇了 EfficientNet-B3 作為基礎模型。資料集來自 Hugging Face，包含商標圖像及其對應的多標籤。初始訓練時將這些訓練資料切分為訓練集和驗證集，並進行了圖像預處理。"
   ]
  },
  {
   "cell_type": "markdown",
   "metadata": {
    "id": "lR2DZKgBL-gu"
   },
   "source": [
    "# 資料集準備\n",
    "\n",
    "\n",
    "1.   從 Hugging Face 下載資料集並解壓縮。\n",
    "2.   讀取標籤對應文件 label_to_idx.txt，並將其轉換為字典格式。\n",
    "3.   定義自訂的 MultiLabelDataset 類別來加載資料集，並進行圖像預處理。這部分原先有針對圖像進行不同角度翻轉、色彩改變等等的作法，但後續實驗上發現在訓練過程收斂的效果不佳，故最後僅只對圖片進行大小尺寸剪取的預處理。\n",
    "4.   有將原本的訓練資料進行分割，將資料集分為訓練集 (80%) 和驗證集 (20%)，並使用DataLoader 來讀取訓練集和驗證集。"
   ]
  },
  {
   "cell_type": "code",
   "execution_count": 1,
   "metadata": {
    "id": "5pz8jVs8aF_X"
   },
   "outputs": [],
   "source": [
    "# 下載資料集\n",
    "!huggingface-cli download dodofk/ntusldl2024_miniproject_2 --repo-type dataset --local-dir my_dataset"
   ]
  },
  {
   "cell_type": "code",
   "execution_count": null,
   "metadata": {
    "id": "dF_C0y9z_kho"
   },
   "outputs": [],
   "source": [
    "import os\n",
    "import tarfile\n",
    "import torch\n",
    "import numpy as np\n",
    "import pandas as pd\n",
    "from PIL import Image\n",
    "from torch.utils.data import Dataset, DataLoader, random_split\n",
    "from torchvision import transforms, models\n",
    "import torch.nn as nn\n",
    "import torch.optim as optim\n",
    "from torch.optim.lr_scheduler import ReduceLROnPlateau\n",
    "from sklearn.metrics import average_precision_score\n",
    "import matplotlib.pyplot as plt\n",
    "from torch.cuda.amp import GradScaler, autocast"
   ]
  },
  {
   "cell_type": "code",
   "execution_count": null,
   "metadata": {
    "colab": {
     "base_uri": "https://localhost:8080/"
    },
    "id": "c-QLUlNEbBLA",
    "outputId": "9f3ba244-8c06-43e6-f89c-20b1753d29c1"
   },
   "outputs": [
    {
     "name": "stdout",
     "output_type": "stream",
     "text": [
      "my_dataset/train_data.tar.gz 解壓縮至 train_data 資料夾\n",
      "my_dataset/test_data.tar.gz 解壓縮至 test_data 資料夾\n"
     ]
    }
   ],
   "source": [
    "# 解壓縮資料集\n",
    "def extract_tar_file(tar_path, extract_path):\n",
    "    if not os.path.exists(extract_path):\n",
    "        with tarfile.open(tar_path, \"r:gz\") as tar:\n",
    "            tar.extractall(path=extract_path)\n",
    "        print(f\"{tar_path} 解壓縮至 {extract_path}\")\n",
    "    else:\n",
    "        print(f\"{extract_path} 資料夾已存在\")\n",
    "\n",
    "extract_tar_file(\"my_dataset/train_data.tar.gz\", \"train_data\")\n",
    "extract_tar_file(\"my_dataset/test_data.tar.gz\", \"test_data\")"
   ]
  },
  {
   "cell_type": "code",
   "execution_count": null,
   "metadata": {
    "id": "3iCk6TOI-dqt"
   },
   "outputs": [],
   "source": [
    "# 資料轉換與影像前處理\n",
    "transform_train = transforms.Compose([\n",
    "    transforms.Resize((224, 224)),\n",
    "    transforms.ToTensor(),\n",
    "])\n",
    "\n",
    "transform_val_test = transforms.Compose([\n",
    "    transforms.Resize((224, 224)),\n",
    "    transforms.ToTensor(),\n",
    "])\n",
    "\n",
    "# 自定義資料集\n",
    "class MultiLabelDataset(Dataset):\n",
    "    def __init__(self, csv_file, root_dir, label_to_idx, transform=None):\n",
    "        self.data = pd.read_csv(csv_file)\n",
    "        self.root_dir = root_dir\n",
    "        self.label_to_idx = label_to_idx\n",
    "        self.transform = transform\n",
    "\n",
    "    def __len__(self):\n",
    "        return len(self.data)\n",
    "\n",
    "    def __getitem__(self, idx):\n",
    "        img_name = os.path.join(self.root_dir, self.data.iloc[idx, 0])\n",
    "        image = Image.open(img_name).convert(\"RGB\")\n",
    "\n",
    "        labels = self.data.iloc[idx, 1].split(',')\n",
    "        label_tensor = torch.zeros(len(self.label_to_idx))\n",
    "        for label in labels:\n",
    "            label_tensor[self.label_to_idx[label.strip()]] = 1.0\n",
    "\n",
    "        if self.transform:\n",
    "            image = self.transform(image)\n",
    "\n",
    "        return image, label_tensor\n",
    "\n",
    "# 讀取 label_2_idx.txt\n",
    "label_to_idx = {}\n",
    "with open('my_dataset/label_to_idx.txt', 'r') as f:\n",
    "    for line in f:\n",
    "        label, idx = line.strip().split()\n",
    "        label_to_idx[label] = int(idx)\n",
    "\n",
    "# 讀取資料集\n",
    "dataset = MultiLabelDataset(\n",
    "    csv_file='my_dataset/train_data.csv',\n",
    "    root_dir='train_data/train_data',\n",
    "    label_to_idx=label_to_idx,\n",
    "    transform=transform_train\n",
    ")\n",
    "\n",
    "# 分割訓練集和驗證集\n",
    "train_size = int(0.8 * len(dataset))\n",
    "val_size = len(dataset) - train_size\n",
    "train_dataset, val_dataset = random_split(dataset, [train_size, val_size])\n",
    "\n",
    "val_dataset.dataset.transform = transform_val_test\n",
    "\n",
    "train_loader = DataLoader(train_dataset, batch_size=32, shuffle=True)\n",
    "val_loader = DataLoader(val_dataset, batch_size=32, shuffle=False)"
   ]
  },
  {
   "cell_type": "markdown",
   "metadata": {
    "id": "L_mu6lKjNPIu"
   },
   "source": [
    "# 模型設計\n",
    "\n",
    "\n",
    "1.   定義 MultiLabelEfficientNet class，使用已經預訓練好的 EfficientNet-B3 模型來進行微調，同時為了避免在訓練過程的 overfitting 問題，有添加 Dropout 層，並在最後調整全連接層以適應本次多標籤任務。\n",
    "2.   模型選擇上，有先使用 resnet18、resnet50、resnet101、EfficientNet-B0 進行實驗，最終選用 EfficientNet-B0 的進階模型 EfficientNet-B3。\n",
    "\n"
   ]
  },
  {
   "cell_type": "code",
   "execution_count": null,
   "metadata": {
    "colab": {
     "base_uri": "https://localhost:8080/"
    },
    "id": "HNsT_q5A-fZo",
    "outputId": "cb227d04-3844-4c16-8481-833689ba7d51"
   },
   "outputs": [
    {
     "name": "stderr",
     "output_type": "stream",
     "text": [
      "/usr/local/lib/python3.10/dist-packages/torchvision/models/_utils.py:208: UserWarning: The parameter 'pretrained' is deprecated since 0.13 and may be removed in the future, please use 'weights' instead.\n",
      "  warnings.warn(\n",
      "/usr/local/lib/python3.10/dist-packages/torchvision/models/_utils.py:223: UserWarning: Arguments other than a weight enum or `None` for 'weights' are deprecated since 0.13 and may be removed in the future. The current behavior is equivalent to passing `weights=EfficientNet_B3_Weights.IMAGENET1K_V1`. You can also use `weights=EfficientNet_B3_Weights.DEFAULT` to get the most up-to-date weights.\n",
      "  warnings.warn(msg)\n",
      "Downloading: \"https://download.pytorch.org/models/efficientnet_b3_rwightman-b3899882.pth\" to /root/.cache/torch/hub/checkpoints/efficientnet_b3_rwightman-b3899882.pth\n",
      "100%|██████████| 47.2M/47.2M [00:00<00:00, 205MB/s]\n"
     ]
    }
   ],
   "source": [
    "# 使用預訓練模型\n",
    "class MultiLabelEfficientNet(nn.Module):\n",
    "    def __init__(self, num_labels):\n",
    "        super(MultiLabelEfficientNet, self).__init__()\n",
    "        self.efficientnet = models.efficientnet_b3(pretrained=True)\n",
    "        self.efficientnet.classifier[1] = nn.Sequential(\n",
    "            nn.Dropout(0.3),\n",
    "            nn.Linear(self.efficientnet.classifier[1].in_features, num_labels)\n",
    "        )\n",
    "\n",
    "    def forward(self, x):\n",
    "        x = self.efficientnet(x)\n",
    "        return x\n",
    "\n",
    "model = MultiLabelEfficientNet(num_labels=len(label_to_idx)).to(torch.device(\"cuda\" if torch.cuda.is_available() else \"cpu\"))\n",
    "\n",
    "device = torch.device(\"cuda\" if torch.cuda.is_available() else \"cpu\")"
   ]
  },
  {
   "cell_type": "markdown",
   "metadata": {
    "id": "ao4RVVcgOmsn"
   },
   "source": [
    "# 模型訓練\n",
    "\n",
    "\n",
    "1.   本次為加快模型的訓練速度，比較沒有利用驗證集再針對 batch size、learning rate、weight decay 等重要的超參數進行探索，如果要改進模型表現可以再針對這方面進行調整。\n",
    "2.   設定 batch size 為 32，損失函數為 BCEWithLogitsLoss，優化器為 AdamW (lr=1e-4)，同時為了避免 overfitting 的問題有另外添加 weight decay (1e-4) 正則化的機制，並使用 ReduceLROnPlateau 來動態進行學習率調整。\n",
    "3.   使用自動混合精度 (AMP) 加快訓練過程。\n",
    "4.   設置 early stopping 機制 (epoch = 30、patience = 5)，當驗證集的 mAP 不再提升時提前停止訓練。\n",
    "5.   Train Loss: 0.0044、Val Loss: 0.0622、Val mAP: 0.6226。\n"
   ]
  },
  {
   "cell_type": "code",
   "execution_count": null,
   "metadata": {
    "colab": {
     "base_uri": "https://localhost:8080/"
    },
    "id": "JwkF6N1M-iOo",
    "outputId": "055839e9-ad50-4608-df07-e5f9f7b3217b"
   },
   "outputs": [
    {
     "name": "stderr",
     "output_type": "stream",
     "text": [
      "/usr/local/lib/python3.10/dist-packages/torch/optim/lr_scheduler.py:62: UserWarning: The verbose parameter is deprecated. Please use get_last_lr() to access the learning rate.\n",
      "  warnings.warn(\n",
      "<ipython-input-6-070254ac8dd6>:6: FutureWarning: `torch.cuda.amp.GradScaler(args...)` is deprecated. Please use `torch.amp.GradScaler('cuda', args...)` instead.\n",
      "  scaler = GradScaler()\n",
      "<ipython-input-6-070254ac8dd6>:28: FutureWarning: `torch.cuda.amp.autocast(args...)` is deprecated. Please use `torch.amp.autocast('cuda', args...)` instead.\n",
      "  with autocast():\n"
     ]
    },
    {
     "name": "stdout",
     "output_type": "stream",
     "text": [
      "Epoch 1/30 - Train Loss: 0.1011 - Val Loss: 0.0802 - Val mAP: 0.1501\n"
     ]
    },
    {
     "name": "stderr",
     "output_type": "stream",
     "text": [
      "<ipython-input-6-070254ac8dd6>:28: FutureWarning: `torch.cuda.amp.autocast(args...)` is deprecated. Please use `torch.amp.autocast('cuda', args...)` instead.\n",
      "  with autocast():\n"
     ]
    },
    {
     "name": "stdout",
     "output_type": "stream",
     "text": [
      "Epoch 2/30 - Train Loss: 0.0651 - Val Loss: 0.0691 - Val mAP: 0.2555\n"
     ]
    },
    {
     "name": "stderr",
     "output_type": "stream",
     "text": [
      "<ipython-input-6-070254ac8dd6>:28: FutureWarning: `torch.cuda.amp.autocast(args...)` is deprecated. Please use `torch.amp.autocast('cuda', args...)` instead.\n",
      "  with autocast():\n"
     ]
    },
    {
     "name": "stdout",
     "output_type": "stream",
     "text": [
      "Epoch 3/30 - Train Loss: 0.0552 - Val Loss: 0.1169 - Val mAP: 0.3419\n"
     ]
    },
    {
     "name": "stderr",
     "output_type": "stream",
     "text": [
      "<ipython-input-6-070254ac8dd6>:28: FutureWarning: `torch.cuda.amp.autocast(args...)` is deprecated. Please use `torch.amp.autocast('cuda', args...)` instead.\n",
      "  with autocast():\n"
     ]
    },
    {
     "name": "stdout",
     "output_type": "stream",
     "text": [
      "Epoch 4/30 - Train Loss: 0.0477 - Val Loss: 0.0485 - Val mAP: 0.3970\n"
     ]
    },
    {
     "name": "stderr",
     "output_type": "stream",
     "text": [
      "<ipython-input-6-070254ac8dd6>:28: FutureWarning: `torch.cuda.amp.autocast(args...)` is deprecated. Please use `torch.amp.autocast('cuda', args...)` instead.\n",
      "  with autocast():\n"
     ]
    },
    {
     "name": "stdout",
     "output_type": "stream",
     "text": [
      "Epoch 5/30 - Train Loss: 0.0415 - Val Loss: 0.0460 - Val mAP: 0.4404\n"
     ]
    },
    {
     "name": "stderr",
     "output_type": "stream",
     "text": [
      "<ipython-input-6-070254ac8dd6>:28: FutureWarning: `torch.cuda.amp.autocast(args...)` is deprecated. Please use `torch.amp.autocast('cuda', args...)` instead.\n",
      "  with autocast():\n"
     ]
    },
    {
     "name": "stdout",
     "output_type": "stream",
     "text": [
      "Epoch 6/30 - Train Loss: 0.0362 - Val Loss: 0.0561 - Val mAP: 0.4697\n"
     ]
    },
    {
     "name": "stderr",
     "output_type": "stream",
     "text": [
      "<ipython-input-6-070254ac8dd6>:28: FutureWarning: `torch.cuda.amp.autocast(args...)` is deprecated. Please use `torch.amp.autocast('cuda', args...)` instead.\n",
      "  with autocast():\n"
     ]
    },
    {
     "name": "stdout",
     "output_type": "stream",
     "text": [
      "Epoch 7/30 - Train Loss: 0.0317 - Val Loss: 0.0448 - Val mAP: 0.4943\n"
     ]
    },
    {
     "name": "stderr",
     "output_type": "stream",
     "text": [
      "<ipython-input-6-070254ac8dd6>:28: FutureWarning: `torch.cuda.amp.autocast(args...)` is deprecated. Please use `torch.amp.autocast('cuda', args...)` instead.\n",
      "  with autocast():\n"
     ]
    },
    {
     "name": "stdout",
     "output_type": "stream",
     "text": [
      "Epoch 8/30 - Train Loss: 0.0278 - Val Loss: 0.0569 - Val mAP: 0.5173\n"
     ]
    },
    {
     "name": "stderr",
     "output_type": "stream",
     "text": [
      "<ipython-input-6-070254ac8dd6>:28: FutureWarning: `torch.cuda.amp.autocast(args...)` is deprecated. Please use `torch.amp.autocast('cuda', args...)` instead.\n",
      "  with autocast():\n"
     ]
    },
    {
     "name": "stdout",
     "output_type": "stream",
     "text": [
      "Epoch 9/30 - Train Loss: 0.0245 - Val Loss: 0.0455 - Val mAP: 0.5396\n"
     ]
    },
    {
     "name": "stderr",
     "output_type": "stream",
     "text": [
      "<ipython-input-6-070254ac8dd6>:28: FutureWarning: `torch.cuda.amp.autocast(args...)` is deprecated. Please use `torch.amp.autocast('cuda', args...)` instead.\n",
      "  with autocast():\n"
     ]
    },
    {
     "name": "stdout",
     "output_type": "stream",
     "text": [
      "Epoch 10/30 - Train Loss: 0.0217 - Val Loss: 0.0465 - Val mAP: 0.5485\n"
     ]
    },
    {
     "name": "stderr",
     "output_type": "stream",
     "text": [
      "<ipython-input-6-070254ac8dd6>:28: FutureWarning: `torch.cuda.amp.autocast(args...)` is deprecated. Please use `torch.amp.autocast('cuda', args...)` instead.\n",
      "  with autocast():\n"
     ]
    },
    {
     "name": "stdout",
     "output_type": "stream",
     "text": [
      "Epoch 11/30 - Train Loss: 0.0195 - Val Loss: 0.0472 - Val mAP: 0.5596\n"
     ]
    },
    {
     "name": "stderr",
     "output_type": "stream",
     "text": [
      "<ipython-input-6-070254ac8dd6>:28: FutureWarning: `torch.cuda.amp.autocast(args...)` is deprecated. Please use `torch.amp.autocast('cuda', args...)` instead.\n",
      "  with autocast():\n"
     ]
    },
    {
     "name": "stdout",
     "output_type": "stream",
     "text": [
      "Epoch 12/30 - Train Loss: 0.0174 - Val Loss: 0.0475 - Val mAP: 0.5717\n"
     ]
    },
    {
     "name": "stderr",
     "output_type": "stream",
     "text": [
      "<ipython-input-6-070254ac8dd6>:28: FutureWarning: `torch.cuda.amp.autocast(args...)` is deprecated. Please use `torch.amp.autocast('cuda', args...)` instead.\n",
      "  with autocast():\n"
     ]
    },
    {
     "name": "stdout",
     "output_type": "stream",
     "text": [
      "Epoch 13/30 - Train Loss: 0.0158 - Val Loss: 0.0491 - Val mAP: 0.5765\n"
     ]
    },
    {
     "name": "stderr",
     "output_type": "stream",
     "text": [
      "<ipython-input-6-070254ac8dd6>:28: FutureWarning: `torch.cuda.amp.autocast(args...)` is deprecated. Please use `torch.amp.autocast('cuda', args...)` instead.\n",
      "  with autocast():\n"
     ]
    },
    {
     "name": "stdout",
     "output_type": "stream",
     "text": [
      "Epoch 14/30 - Train Loss: 0.0144 - Val Loss: 0.0500 - Val mAP: 0.5836\n"
     ]
    },
    {
     "name": "stderr",
     "output_type": "stream",
     "text": [
      "<ipython-input-6-070254ac8dd6>:28: FutureWarning: `torch.cuda.amp.autocast(args...)` is deprecated. Please use `torch.amp.autocast('cuda', args...)` instead.\n",
      "  with autocast():\n"
     ]
    },
    {
     "name": "stdout",
     "output_type": "stream",
     "text": [
      "Epoch 15/30 - Train Loss: 0.0132 - Val Loss: 0.0513 - Val mAP: 0.5845\n"
     ]
    },
    {
     "name": "stderr",
     "output_type": "stream",
     "text": [
      "<ipython-input-6-070254ac8dd6>:28: FutureWarning: `torch.cuda.amp.autocast(args...)` is deprecated. Please use `torch.amp.autocast('cuda', args...)` instead.\n",
      "  with autocast():\n"
     ]
    },
    {
     "name": "stdout",
     "output_type": "stream",
     "text": [
      "Epoch 16/30 - Train Loss: 0.0119 - Val Loss: 0.0521 - Val mAP: 0.5947\n"
     ]
    },
    {
     "name": "stderr",
     "output_type": "stream",
     "text": [
      "<ipython-input-6-070254ac8dd6>:28: FutureWarning: `torch.cuda.amp.autocast(args...)` is deprecated. Please use `torch.amp.autocast('cuda', args...)` instead.\n",
      "  with autocast():\n"
     ]
    },
    {
     "name": "stdout",
     "output_type": "stream",
     "text": [
      "Epoch 17/30 - Train Loss: 0.0110 - Val Loss: 0.0530 - Val mAP: 0.6055\n"
     ]
    },
    {
     "name": "stderr",
     "output_type": "stream",
     "text": [
      "<ipython-input-6-070254ac8dd6>:28: FutureWarning: `torch.cuda.amp.autocast(args...)` is deprecated. Please use `torch.amp.autocast('cuda', args...)` instead.\n",
      "  with autocast():\n"
     ]
    },
    {
     "name": "stdout",
     "output_type": "stream",
     "text": [
      "Epoch 18/30 - Train Loss: 0.0103 - Val Loss: 0.0550 - Val mAP: 0.6015\n"
     ]
    },
    {
     "name": "stderr",
     "output_type": "stream",
     "text": [
      "<ipython-input-6-070254ac8dd6>:28: FutureWarning: `torch.cuda.amp.autocast(args...)` is deprecated. Please use `torch.amp.autocast('cuda', args...)` instead.\n",
      "  with autocast():\n"
     ]
    },
    {
     "name": "stdout",
     "output_type": "stream",
     "text": [
      "Epoch 19/30 - Train Loss: 0.0095 - Val Loss: 0.0555 - Val mAP: 0.6104\n"
     ]
    },
    {
     "name": "stderr",
     "output_type": "stream",
     "text": [
      "<ipython-input-6-070254ac8dd6>:28: FutureWarning: `torch.cuda.amp.autocast(args...)` is deprecated. Please use `torch.amp.autocast('cuda', args...)` instead.\n",
      "  with autocast():\n"
     ]
    },
    {
     "name": "stdout",
     "output_type": "stream",
     "text": [
      "Epoch 20/30 - Train Loss: 0.0090 - Val Loss: 0.0560 - Val mAP: 0.6109\n"
     ]
    },
    {
     "name": "stderr",
     "output_type": "stream",
     "text": [
      "<ipython-input-6-070254ac8dd6>:28: FutureWarning: `torch.cuda.amp.autocast(args...)` is deprecated. Please use `torch.amp.autocast('cuda', args...)` instead.\n",
      "  with autocast():\n"
     ]
    },
    {
     "name": "stdout",
     "output_type": "stream",
     "text": [
      "Epoch 21/30 - Train Loss: 0.0084 - Val Loss: 0.0571 - Val mAP: 0.6143\n"
     ]
    },
    {
     "name": "stderr",
     "output_type": "stream",
     "text": [
      "<ipython-input-6-070254ac8dd6>:28: FutureWarning: `torch.cuda.amp.autocast(args...)` is deprecated. Please use `torch.amp.autocast('cuda', args...)` instead.\n",
      "  with autocast():\n"
     ]
    },
    {
     "name": "stdout",
     "output_type": "stream",
     "text": [
      "Epoch 22/30 - Train Loss: 0.0078 - Val Loss: 0.0574 - Val mAP: 0.6131\n"
     ]
    },
    {
     "name": "stderr",
     "output_type": "stream",
     "text": [
      "<ipython-input-6-070254ac8dd6>:28: FutureWarning: `torch.cuda.amp.autocast(args...)` is deprecated. Please use `torch.amp.autocast('cuda', args...)` instead.\n",
      "  with autocast():\n"
     ]
    },
    {
     "name": "stdout",
     "output_type": "stream",
     "text": [
      "Epoch 23/30 - Train Loss: 0.0074 - Val Loss: 0.0586 - Val mAP: 0.6099\n"
     ]
    },
    {
     "name": "stderr",
     "output_type": "stream",
     "text": [
      "<ipython-input-6-070254ac8dd6>:28: FutureWarning: `torch.cuda.amp.autocast(args...)` is deprecated. Please use `torch.amp.autocast('cuda', args...)` instead.\n",
      "  with autocast():\n"
     ]
    },
    {
     "name": "stdout",
     "output_type": "stream",
     "text": [
      "Epoch 24/30 - Train Loss: 0.0071 - Val Loss: 0.0599 - Val mAP: 0.6136\n"
     ]
    },
    {
     "name": "stderr",
     "output_type": "stream",
     "text": [
      "<ipython-input-6-070254ac8dd6>:28: FutureWarning: `torch.cuda.amp.autocast(args...)` is deprecated. Please use `torch.amp.autocast('cuda', args...)` instead.\n",
      "  with autocast():\n"
     ]
    },
    {
     "name": "stdout",
     "output_type": "stream",
     "text": [
      "Epoch 25/30 - Train Loss: 0.0058 - Val Loss: 0.0594 - Val mAP: 0.6212\n"
     ]
    },
    {
     "name": "stderr",
     "output_type": "stream",
     "text": [
      "<ipython-input-6-070254ac8dd6>:28: FutureWarning: `torch.cuda.amp.autocast(args...)` is deprecated. Please use `torch.amp.autocast('cuda', args...)` instead.\n",
      "  with autocast():\n"
     ]
    },
    {
     "name": "stdout",
     "output_type": "stream",
     "text": [
      "Epoch 26/30 - Train Loss: 0.0050 - Val Loss: 0.0613 - Val mAP: 0.6184\n"
     ]
    },
    {
     "name": "stderr",
     "output_type": "stream",
     "text": [
      "<ipython-input-6-070254ac8dd6>:28: FutureWarning: `torch.cuda.amp.autocast(args...)` is deprecated. Please use `torch.amp.autocast('cuda', args...)` instead.\n",
      "  with autocast():\n"
     ]
    },
    {
     "name": "stdout",
     "output_type": "stream",
     "text": [
      "Epoch 27/30 - Train Loss: 0.0047 - Val Loss: 0.0619 - Val mAP: 0.6200\n"
     ]
    },
    {
     "name": "stderr",
     "output_type": "stream",
     "text": [
      "<ipython-input-6-070254ac8dd6>:28: FutureWarning: `torch.cuda.amp.autocast(args...)` is deprecated. Please use `torch.amp.autocast('cuda', args...)` instead.\n",
      "  with autocast():\n"
     ]
    },
    {
     "name": "stdout",
     "output_type": "stream",
     "text": [
      "Epoch 28/30 - Train Loss: 0.0046 - Val Loss: 0.0624 - Val mAP: 0.6216\n"
     ]
    },
    {
     "name": "stderr",
     "output_type": "stream",
     "text": [
      "<ipython-input-6-070254ac8dd6>:28: FutureWarning: `torch.cuda.amp.autocast(args...)` is deprecated. Please use `torch.amp.autocast('cuda', args...)` instead.\n",
      "  with autocast():\n"
     ]
    },
    {
     "name": "stdout",
     "output_type": "stream",
     "text": [
      "Epoch 29/30 - Train Loss: 0.0044 - Val Loss: 0.0622 - Val mAP: 0.6226\n"
     ]
    },
    {
     "name": "stderr",
     "output_type": "stream",
     "text": [
      "<ipython-input-6-070254ac8dd6>:28: FutureWarning: `torch.cuda.amp.autocast(args...)` is deprecated. Please use `torch.amp.autocast('cuda', args...)` instead.\n",
      "  with autocast():\n"
     ]
    },
    {
     "name": "stdout",
     "output_type": "stream",
     "text": [
      "Epoch 30/30 - Train Loss: 0.0041 - Val Loss: 0.0634 - Val mAP: 0.6203\n"
     ]
    }
   ],
   "source": [
    "# 設定損失函數與優化器\n",
    "criterion = nn.BCEWithLogitsLoss()\n",
    "optimizer = optim.AdamW(model.parameters(), lr=1e-4, weight_decay=1e-4)\n",
    "scheduler = ReduceLROnPlateau(optimizer, mode='max', factor=0.5, patience=2, verbose=True)\n",
    "\n",
    "scaler = GradScaler()\n",
    "\n",
    "def calculate_map(y_true, y_pred):\n",
    "    return average_precision_score(y_true, y_pred, average='macro')\n",
    "\n",
    "# 模型訓練\n",
    "num_epochs = 30\n",
    "early_stopping_patience = 5\n",
    "best_val_map = 0\n",
    "patience_counter = 0\n",
    "\n",
    "train_losses = []\n",
    "val_losses = []\n",
    "val_maps = []\n",
    "\n",
    "for epoch in range(num_epochs):\n",
    "    model.train()\n",
    "    running_loss = 0.0\n",
    "    for images, labels in train_loader:\n",
    "        images, labels = images.to(device), labels.to(device)\n",
    "\n",
    "        optimizer.zero_grad()\n",
    "        with autocast():\n",
    "            outputs = model(images)\n",
    "            loss = criterion(outputs, labels)\n",
    "        scaler.scale(loss).backward()\n",
    "        scaler.step(optimizer)\n",
    "        scaler.update()\n",
    "\n",
    "        running_loss += loss.item()\n",
    "\n",
    "    train_loss = running_loss / len(train_loader)\n",
    "    train_losses.append(train_loss)\n",
    "\n",
    "    model.eval()\n",
    "    val_loss = 0.0\n",
    "    all_labels = []\n",
    "    all_outputs = []\n",
    "\n",
    "    with torch.no_grad():\n",
    "        for images, labels in val_loader:\n",
    "            images, labels = images.to(device), labels.to(device)\n",
    "            outputs = model(images)\n",
    "            loss = criterion(outputs, labels)\n",
    "            val_loss += loss.item()\n",
    "\n",
    "            all_labels.append(labels.cpu().numpy())\n",
    "            all_outputs.append(outputs.cpu().numpy())\n",
    "\n",
    "    val_loss /= len(val_loader)\n",
    "    val_losses.append(val_loss)\n",
    "\n",
    "    all_labels = np.vstack(all_labels)\n",
    "    all_outputs = np.vstack(all_outputs)\n",
    "\n",
    "    val_map = calculate_map(all_labels, all_outputs)\n",
    "    val_maps.append(val_map)\n",
    "\n",
    "    print(f\"Epoch {epoch+1}/{num_epochs} - Train Loss: {train_loss:.4f} - Val Loss: {val_loss:.4f} - Val mAP: {val_map:.4f}\")\n",
    "\n",
    "    if val_map > best_val_map:\n",
    "        best_val_map = val_map\n",
    "        patience_counter = 0\n",
    "        torch.save(model.state_dict(), \"best_model.pth\")\n",
    "    else:\n",
    "        patience_counter += 1\n",
    "\n",
    "    scheduler.step(val_map)\n",
    "\n",
    "    if patience_counter >= early_stopping_patience:\n",
    "        print(\"Early stopping triggered.\")\n",
    "        break"
   ]
  },
  {
   "cell_type": "code",
   "execution_count": null,
   "metadata": {
    "colab": {
     "base_uri": "https://localhost:8080/",
     "height": 34
    },
    "id": "79_bseLWAeDX",
    "outputId": "4e4ee0c9-06da-4cc1-c90d-5e6a92a13e77"
   },
   "outputs": [
    {
     "data": {
      "application/javascript": [
       "\n",
       "    async function download(id, filename, size) {\n",
       "      if (!google.colab.kernel.accessAllowed) {\n",
       "        return;\n",
       "      }\n",
       "      const div = document.createElement('div');\n",
       "      const label = document.createElement('label');\n",
       "      label.textContent = `Downloading \"${filename}\": `;\n",
       "      div.appendChild(label);\n",
       "      const progress = document.createElement('progress');\n",
       "      progress.max = size;\n",
       "      div.appendChild(progress);\n",
       "      document.body.appendChild(div);\n",
       "\n",
       "      const buffers = [];\n",
       "      let downloaded = 0;\n",
       "\n",
       "      const channel = await google.colab.kernel.comms.open(id);\n",
       "      // Send a message to notify the kernel that we're ready.\n",
       "      channel.send({})\n",
       "\n",
       "      for await (const message of channel.messages) {\n",
       "        // Send a message to notify the kernel that we're ready.\n",
       "        channel.send({})\n",
       "        if (message.buffers) {\n",
       "          for (const buffer of message.buffers) {\n",
       "            buffers.push(buffer);\n",
       "            downloaded += buffer.byteLength;\n",
       "            progress.value = downloaded;\n",
       "          }\n",
       "        }\n",
       "      }\n",
       "      const blob = new Blob(buffers, {type: 'application/binary'});\n",
       "      const a = document.createElement('a');\n",
       "      a.href = window.URL.createObjectURL(blob);\n",
       "      a.download = filename;\n",
       "      div.appendChild(a);\n",
       "      a.click();\n",
       "      div.remove();\n",
       "    }\n",
       "  "
      ],
      "text/plain": [
       "<IPython.core.display.Javascript object>"
      ]
     },
     "metadata": {},
     "output_type": "display_data"
    },
    {
     "data": {
      "application/javascript": [
       "download(\"download_430816f0-ec2c-4778-a8a0-bc520f6261ac\", \"without valid model.pth\", 43847054)"
      ],
      "text/plain": [
       "<IPython.core.display.Javascript object>"
      ]
     },
     "metadata": {},
     "output_type": "display_data"
    }
   ],
   "source": [
    "# 儲存模型\n",
    "torch.save(model.state_dict(), 'without valid model.pth')\n",
    "\n",
    "# 下載檔案\n",
    "from google.colab import files\n",
    "files.download('without valid model.pth')"
   ]
  },
  {
   "cell_type": "markdown",
   "metadata": {
    "id": "TFQ5OA78QaRS"
   },
   "source": [
    "# 視覺化訓練過程\n",
    "\n",
    "\n",
    "1.   Training Loss、Validation Loss、mAP 在 30 epochs 的變化。\n",
    "2.   之前觀察大概都會在第 10 次 epoch 後有過擬合的現象，雖然 mAP 表現還是會有滿大繼續提升的空間，但還是有因此在之前的訓練過程中加入正則化機制來提升模型的泛化能力。\n",
    "\n"
   ]
  },
  {
   "cell_type": "code",
   "execution_count": null,
   "metadata": {
    "colab": {
     "base_uri": "https://localhost:8080/",
     "height": 413
    },
    "id": "Z_rRp3ZGiyqm",
    "outputId": "360f2c5c-fa25-4002-c7d7-976fb6372ed3"
   },
   "outputs": [
    {
     "data": {
      "image/png": "[encoded data removed]",
      "text/plain": [
       "<Figure size 1200x600 with 2 Axes>"
      ]
     },
     "metadata": {},
     "output_type": "display_data"
    }
   ],
   "source": [
    "# 視覺化訓練過程\n",
    "plt.figure(figsize=(12, 6))\n",
    "plt.subplot(1, 2, 1)\n",
    "plt.plot(train_losses, label='Train Loss')\n",
    "plt.plot(val_losses, label='Validation Loss')\n",
    "plt.xlabel('Epoch')\n",
    "plt.ylabel('Loss')\n",
    "plt.legend()\n",
    "plt.title('Training and Validation Loss')\n",
    "\n",
    "plt.subplot(1, 2, 2)\n",
    "plt.plot(val_maps, label='Validation mAP')\n",
    "plt.xlabel('Epoch')\n",
    "plt.ylabel('mAP')\n",
    "plt.legend()\n",
    "plt.title('Validation mAP')\n",
    "\n",
    "plt.tight_layout()\n",
    "plt.show()"
   ]
  },
  {
   "cell_type": "markdown",
   "metadata": {
    "id": "ReUI-qYkSLgF"
   },
   "source": [
    "# 最終訓練\n",
    "\n",
    "\n",
    "1.   最終有將訓練集與驗證集結合在一起，利用全部的資料重新訓練一次。\n",
    "2.   因為是使用前面訓練好的最佳模型再進行調整，這裡設定 epoch = 15，patience = 3。\n",
    "3.   Train Loss: 0.0030。\n",
    "\n"
   ]
  },
  {
   "cell_type": "code",
   "execution_count": null,
   "metadata": {
    "colab": {
     "base_uri": "https://localhost:8080/"
    },
    "id": "P8kED7EKmvI0",
    "outputId": "c57daac2-276a-4c92-eb69-b5694f58155f"
   },
   "outputs": [
    {
     "name": "stderr",
     "output_type": "stream",
     "text": [
      "<ipython-input-9-4306dd653290>:8: FutureWarning: You are using `torch.load` with `weights_only=False` (the current default value), which uses the default pickle module implicitly. It is possible to construct malicious pickle data which will execute arbitrary code during unpickling (See https://github.com/pytorch/pytorch/blob/main/SECURITY.md#untrusted-models for more details). In a future release, the default value for `weights_only` will be flipped to `True`. This limits the functions that could be executed during unpickling. Arbitrary objects will no longer be allowed to be loaded via this mode unless they are explicitly allowlisted by the user via `torch.serialization.add_safe_globals`. We recommend you start setting `weights_only=True` for any use case where you don't have full control of the loaded file. Please open an issue on GitHub for any issues related to this experimental feature.\n",
      "  model.load_state_dict(torch.load(\"best_model.pth\"))\n",
      "/usr/local/lib/python3.10/dist-packages/torch/optim/lr_scheduler.py:62: UserWarning: The verbose parameter is deprecated. Please use get_last_lr() to access the learning rate.\n",
      "  warnings.warn(\n",
      "<ipython-input-9-4306dd653290>:26: FutureWarning: `torch.cuda.amp.autocast(args...)` is deprecated. Please use `torch.amp.autocast('cuda', args...)` instead.\n",
      "  with autocast():\n"
     ]
    },
    {
     "name": "stdout",
     "output_type": "stream",
     "text": [
      "Final Epoch 1/15 - Train Loss: 0.0145\n",
      "Final Epoch 2/15 - Train Loss: 0.0100\n",
      "Final Epoch 3/15 - Train Loss: 0.0080\n",
      "Final Epoch 4/15 - Train Loss: 0.0068\n",
      "Final Epoch 5/15 - Train Loss: 0.0054\n",
      "Final Epoch 6/15 - Train Loss: 0.0048\n",
      "Final Epoch 7/15 - Train Loss: 0.0043\n",
      "Final Epoch 8/15 - Train Loss: 0.0040\n",
      "Final Epoch 9/15 - Train Loss: 0.0037\n",
      "Final Epoch 10/15 - Train Loss: 0.0036\n",
      "Final Epoch 11/15 - Train Loss: 0.0033\n",
      "Final Epoch 12/15 - Train Loss: 0.0032\n",
      "Final Epoch 13/15 - Train Loss: 0.0032\n",
      "Final Epoch 14/15 - Train Loss: 0.0030\n",
      "Final Epoch 15/15 - Train Loss: 0.0030\n"
     ]
    }
   ],
   "source": [
    "# 合併訓練集與驗證集\n",
    "full_train_dataset = torch.utils.data.ConcatDataset([train_dataset, val_dataset])\n",
    "full_train_loader = DataLoader(full_train_dataset, batch_size=64, shuffle=True)\n",
    "\n",
    "# 讀取前面訓練好最好的模型\n",
    "model.load_state_dict(torch.load(\"best_model.pth\"))\n",
    "\n",
    "# 使用全部的訓練集進行最後的訓練\n",
    "num_final_epochs = 15\n",
    "final_optimizer = optim.AdamW(model.parameters(), lr=1e-4, weight_decay=1e-4)\n",
    "final_scheduler = ReduceLROnPlateau(final_optimizer, mode='max', factor=0.5, patience=2, verbose=True)\n",
    "\n",
    "final_early_stopping_patience = 3\n",
    "final_best_train_loss = float('inf')\n",
    "final_patience_counter = 0\n",
    "\n",
    "for epoch in range(num_final_epochs):\n",
    "    model.train()\n",
    "    running_loss = 0.0\n",
    "    for images, labels in full_train_loader:\n",
    "        images, labels = images.to(device), labels.to(device)\n",
    "\n",
    "        final_optimizer.zero_grad()\n",
    "        with autocast():\n",
    "            outputs = model(images)\n",
    "            loss = criterion(outputs, labels)\n",
    "        scaler.scale(loss).backward()\n",
    "        scaler.step(final_optimizer)\n",
    "        scaler.update()\n",
    "\n",
    "        running_loss += loss.item()\n",
    "\n",
    "    train_loss = running_loss / len(full_train_loader)\n",
    "    print(f\"Final Epoch {epoch+1}/{num_final_epochs} - Train Loss: {train_loss:.4f}\")\n",
    "\n",
    "    if train_loss < final_best_train_loss:\n",
    "        final_best_train_loss = train_loss\n",
    "        final_patience_counter = 0\n",
    "        torch.save(model.state_dict(), \"final_model.pth\")\n",
    "    else:\n",
    "        final_patience_counter += 1\n",
    "\n",
    "    final_scheduler.step(train_loss)\n",
    "\n",
    "    if final_patience_counter >= final_early_stopping_patience:\n",
    "        print(\"Final early stopping triggered.\")\n",
    "        break\n",
    "\n",
    "# 儲存最終的模型\n",
    "torch.save(model.state_dict(), \"final_model.pth\")"
   ]
  },
  {
   "cell_type": "code",
   "execution_count": null,
   "metadata": {
    "colab": {
     "base_uri": "https://localhost:8080/",
     "height": 34
    },
    "id": "5otacNggAwJ3",
    "outputId": "a6848a5c-3bf2-45bd-810c-39db3d9e3107"
   },
   "outputs": [
    {
     "data": {
      "application/javascript": [
       "\n",
       "    async function download(id, filename, size) {\n",
       "      if (!google.colab.kernel.accessAllowed) {\n",
       "        return;\n",
       "      }\n",
       "      const div = document.createElement('div');\n",
       "      const label = document.createElement('label');\n",
       "      label.textContent = `Downloading \"${filename}\": `;\n",
       "      div.appendChild(label);\n",
       "      const progress = document.createElement('progress');\n",
       "      progress.max = size;\n",
       "      div.appendChild(progress);\n",
       "      document.body.appendChild(div);\n",
       "\n",
       "      const buffers = [];\n",
       "      let downloaded = 0;\n",
       "\n",
       "      const channel = await google.colab.kernel.comms.open(id);\n",
       "      // Send a message to notify the kernel that we're ready.\n",
       "      channel.send({})\n",
       "\n",
       "      for await (const message of channel.messages) {\n",
       "        // Send a message to notify the kernel that we're ready.\n",
       "        channel.send({})\n",
       "        if (message.buffers) {\n",
       "          for (const buffer of message.buffers) {\n",
       "            buffers.push(buffer);\n",
       "            downloaded += buffer.byteLength;\n",
       "            progress.value = downloaded;\n",
       "          }\n",
       "        }\n",
       "      }\n",
       "      const blob = new Blob(buffers, {type: 'application/binary'});\n",
       "      const a = document.createElement('a');\n",
       "      a.href = window.URL.createObjectURL(blob);\n",
       "      a.download = filename;\n",
       "      div.appendChild(a);\n",
       "      a.click();\n",
       "      div.remove();\n",
       "    }\n",
       "  "
      ],
      "text/plain": [
       "<IPython.core.display.Javascript object>"
      ]
     },
     "metadata": {},
     "output_type": "display_data"
    },
    {
     "data": {
      "application/javascript": [
       "download(\"download_fcff4a98-533b-4d33-a2f2-6ebe6c1f1e95\", \"final_model.pth\", 43842430)"
      ],
      "text/plain": [
       "<IPython.core.display.Javascript object>"
      ]
     },
     "metadata": {},
     "output_type": "display_data"
    }
   ],
   "source": [
    "# 下載最終的模型\n",
    "files.download(\"final_model.pth\")"
   ]
  },
  {
   "cell_type": "markdown",
   "metadata": {
    "id": "q5GlSADgTQun"
   },
   "source": [
    "# 模型訓練\n",
    "\n",
    "\n",
    "1.   自訂 CustomTestDataset Class 來讀取測試集。\n",
    "2.   使用訓練好的模型對測試集進行預測，並將結果保存為 CSV 文件。\n",
    "3.   Kaggle Public Score (mAP): 0.67619。\n"
   ]
  },
  {
   "cell_type": "code",
   "execution_count": null,
   "metadata": {
    "id": "DoQQUFJ--jR4"
   },
   "outputs": [],
   "source": [
    "# 自訂測試資料集 (僅返回圖片)\n",
    "class CustomTestDataset(torch.utils.data.Dataset):\n",
    "    def __init__(self, csv_file, root_dir, transform=None):\n",
    "        self.data = pd.read_csv(csv_file)\n",
    "        self.root_dir = root_dir\n",
    "        self.transform = transform\n",
    "\n",
    "    def __len__(self):\n",
    "        return len(self.data)\n",
    "\n",
    "    def __getitem__(self, idx):\n",
    "        image_name = self.data.iloc[idx, 0]\n",
    "        image_path = f\"{self.root_dir}/{image_name}\"\n",
    "        image = Image.open(image_path).convert('RGB')\n",
    "\n",
    "        if self.transform:\n",
    "            image = self.transform(image)\n",
    "\n",
    "        return image"
   ]
  },
  {
   "cell_type": "code",
   "execution_count": null,
   "metadata": {
    "id": "GEoAJgym-kV7"
   },
   "outputs": [],
   "source": [
    "# 測試集檔案前處理\n",
    "transform = transforms.Compose([\n",
    "    transforms.Resize((224, 224)),\n",
    "    transforms.ToTensor(),\n",
    "])\n",
    "\n",
    "# 讀取測試資料集\n",
    "test_dataset = CustomTestDataset(\n",
    "    csv_file='my_dataset/test_data_public.csv',\n",
    "    root_dir='test_data/test_data',\n",
    "    transform=transform\n",
    ")\n",
    "\n",
    "test_loader = DataLoader(test_dataset, batch_size=32, shuffle=False)\n",
    "\n",
    "# 進行預測\n",
    "model.eval()\n",
    "predictions = []\n",
    "\n",
    "with torch.no_grad():\n",
    "    for images in test_loader:\n",
    "        images = images.to(device)\n",
    "        outputs = model(images)\n",
    "        predictions.append(outputs.cpu().numpy())  # 收集預測結果\n",
    "\n",
    "predictions = np.vstack(predictions)\n",
    "\n",
    "# 儲存為 CSV 文件\n",
    "output = pd.DataFrame(predictions, columns=[f'class_{i}_prob' for i in range(79)])\n",
    "output['filename'] = test_dataset.data['filename']\n",
    "output = output[['filename'] + [f'class_{i}_prob' for i in range(79)]]\n",
    "\n",
    "output.to_csv('submission.csv', index=False)"
   ]
  },
  {
   "cell_type": "code",
   "execution_count": null,
   "metadata": {
    "colab": {
     "base_uri": "https://localhost:8080/",
     "height": 34
    },
    "id": "_U_eWY42R_qA",
    "outputId": "a3d421d3-7b8a-4704-8e69-85c0caba792b"
   },
   "outputs": [
    {
     "data": {
      "application/javascript": [
       "\n",
       "    async function download(id, filename, size) {\n",
       "      if (!google.colab.kernel.accessAllowed) {\n",
       "        return;\n",
       "      }\n",
       "      const div = document.createElement('div');\n",
       "      const label = document.createElement('label');\n",
       "      label.textContent = `Downloading \"${filename}\": `;\n",
       "      div.appendChild(label);\n",
       "      const progress = document.createElement('progress');\n",
       "      progress.max = size;\n",
       "      div.appendChild(progress);\n",
       "      document.body.appendChild(div);\n",
       "\n",
       "      const buffers = [];\n",
       "      let downloaded = 0;\n",
       "\n",
       "      const channel = await google.colab.kernel.comms.open(id);\n",
       "      // Send a message to notify the kernel that we're ready.\n",
       "      channel.send({})\n",
       "\n",
       "      for await (const message of channel.messages) {\n",
       "        // Send a message to notify the kernel that we're ready.\n",
       "        channel.send({})\n",
       "        if (message.buffers) {\n",
       "          for (const buffer of message.buffers) {\n",
       "            buffers.push(buffer);\n",
       "            downloaded += buffer.byteLength;\n",
       "            progress.value = downloaded;\n",
       "          }\n",
       "        }\n",
       "      }\n",
       "      const blob = new Blob(buffers, {type: 'application/binary'});\n",
       "      const a = document.createElement('a');\n",
       "      a.href = window.URL.createObjectURL(blob);\n",
       "      a.download = filename;\n",
       "      div.appendChild(a);\n",
       "      a.click();\n",
       "      div.remove();\n",
       "    }\n",
       "  "
      ],
      "text/plain": [
       "<IPython.core.display.Javascript object>"
      ]
     },
     "metadata": {},
     "output_type": "display_data"
    },
    {
     "data": {
      "application/javascript": [
       "download(\"download_b2e36ea4-42c4-4288-aba8-c00dea286bf4\", \"submission.csv\", 7571744)"
      ],
      "text/plain": [
       "<IPython.core.display.Javascript object>"
      ]
     },
     "metadata": {},
     "output_type": "display_data"
    }
   ],
   "source": [
    "# 下載 CSV 檔案\n",
    "files.download('submission.csv')"
   ]
  }
 ],
 "metadata": {
  "accelerator": "GPU",
  "colab": {
   "gpuType": "L4",
   "machine_shape": "hm",
   "provenance": []
  },
  "kernelspec": {
   "display_name": "Python 3 (ipykernel)",
   "language": "python",
   "name": "python3"
  },
  "language_info": {
   "codemirror_mode": {
    "name": "ipython",
    "version": 3
   },
   "file_extension": ".py",
   "mimetype": "text/x-python",
   "name": "python",
   "nbconvert_exporter": "python",
   "pygments_lexer": "ipython3",
   "version": "3.11.4"
  }
 },
 "nbformat": 4,
 "nbformat_minor": 1
}
